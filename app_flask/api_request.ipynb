{
 "cells": [
  {
   "cell_type": "markdown",
   "metadata": {},
   "source": [
    "# Aula 8: Regressão Linear e Flask"
   ]
  },
  {
   "cell_type": "markdown",
   "metadata": {},
   "source": [
    "## Consumindo API com Requests"
   ]
  },
  {
   "cell_type": "code",
   "execution_count": 2,
   "metadata": {
    "collapsed": true
   },
   "outputs": [],
   "source": [
    "import requests"
   ]
  },
  {
   "cell_type": "code",
   "execution_count": 13,
   "metadata": {},
   "outputs": [
    {
     "name": "stdout",
     "output_type": "stream",
     "text": [
      "{\"output\": \"API Key ou API Secret inv\\u00e1lidos\", \"result\": false}\n"
     ]
    }
   ],
   "source": [
    "r = requests.get(\"http://localhost:8080/predict?model=lr_model&temp_max=30&precipt=10&weekend=0\")\n",
    "print(r.text)"
   ]
  },
  {
   "cell_type": "markdown",
   "metadata": {},
   "source": [
    "Enviado um arquivo pelo método POST"
   ]
  },
  {
   "cell_type": "code",
   "execution_count": 11,
   "metadata": {},
   "outputs": [
    {
     "name": "stdout",
     "output_type": "stream",
     "text": [
      "lr_model_mod.pkl\n"
     ]
    }
   ],
   "source": [
    "files = {'file': open('models/lr_model_mod.pkl','rb')}\n",
    "r = requests.post(\"http://localhost:8080/file\", files = files)\n",
    "print(r.text)"
   ]
  },
  {
   "cell_type": "markdown",
   "metadata": {},
   "source": [
    "### Adicionando Header de Autenticação"
   ]
  },
  {
   "cell_type": "code",
   "execution_count": 10,
   "metadata": {},
   "outputs": [
    {
     "name": "stdout",
     "output_type": "stream",
     "text": [
      "{\"output\": \"Predicted consumption successful for model lr_model\", \"value\": 25885.458494946983}\n"
     ]
    }
   ],
   "source": [
    "headers = {\"key\":\"XFac-7m-7?CjphABgfyAYGAea2E_U7_qD8AP2-FW\", \"secret\": \"UQU8?5gmd+SgGPLtM&*B&x+R3s-4Z8bqAv+aZC6k\"}\n",
    "r = requests.get(\"http://localhost:8080/predict?model=lr_model&temp_max=30&precipt=10&weekend=0\", headers=headers)\n",
    "print(r.text)"
   ]
  },
  {
   "cell_type": "code",
   "execution_count": null,
   "metadata": {
    "collapsed": true
   },
   "outputs": [],
   "source": []
  }
 ],
 "metadata": {
  "kernelspec": {
   "display_name": "Python 3",
   "language": "python",
   "name": "python3"
  },
  "language_info": {
   "codemirror_mode": {
    "name": "ipython",
    "version": 3
   },
   "file_extension": ".py",
   "mimetype": "text/x-python",
   "name": "python",
   "nbconvert_exporter": "python",
   "pygments_lexer": "ipython3",
   "version": "3.6.2"
  }
 },
 "nbformat": 4,
 "nbformat_minor": 2
}
